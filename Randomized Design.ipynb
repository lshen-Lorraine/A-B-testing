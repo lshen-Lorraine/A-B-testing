{
 "cells": [
  {
   "cell_type": "code",
   "execution_count": null,
   "metadata": {},
   "outputs": [],
   "source": [
    "import pandas as pd\n",
    "#read data into DataFrame\n",
    "#want to see whether use automated answering system can improve the customer service ratings\n",
    "data = pd.read_csv('customerserviceabtestdata.csv',sep=',')\n",
    "data"
   ]
  },
  {
   "cell_type": "code",
   "execution_count": null,
   "metadata": {},
   "outputs": [],
   "source": [
    "#split data into treatment which use automated answering system\n",
    "treatment = data[(data.AutomatedFlag == 1)]\n",
    "#calculate the records which phone number called more than once\n",
    "mean1=treatment['CS Rating'].groupby(treatment['Phone Number']).mean()\n"
   ]
  },
  {
   "cell_type": "code",
   "execution_count": null,
   "metadata": {},
   "outputs": [],
   "source": [
    "#pull the data that did not use automated answering system as a control group \n",
    "control = data[(data.AutomatedFlag == 0)]\n",
    "#calculate the means of every customer who called more than once\n",
    "mean2 = control['CS Rating'].groupby(control['Phone Number']).mean()\n"
   ]
  },
  {
   "cell_type": "code",
   "execution_count": null,
   "metadata": {},
   "outputs": [],
   "source": [
    "from scipy import stats\n",
    "\n",
    "import numpy as np\n",
    "#look for whether there is a significant difference by using automated answering system or not\n",
    "stats.ttest_ind(mean1.values,mean2.values)\n"
   ]
  }
 ],
 "metadata": {
  "kernelspec": {
   "display_name": "Python 3",
   "language": "python",
   "name": "python3"
  },
  "language_info": {
   "codemirror_mode": {
    "name": "ipython",
    "version": 3
   },
   "file_extension": ".py",
   "mimetype": "text/x-python",
   "name": "python",
   "nbconvert_exporter": "python",
   "pygments_lexer": "ipython3",
   "version": "3.7.3"
  }
 },
 "nbformat": 4,
 "nbformat_minor": 2
}
